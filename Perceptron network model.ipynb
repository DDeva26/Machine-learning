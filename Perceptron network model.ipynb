{
 "cells": [
  {
   "cell_type": "markdown",
   "metadata": {
    "colab": {},
    "colab_type": "code",
    "id": "U7so3TXXSDep"
   },
   "source": [
    "# 5.single layer perceptron AND"
   ]
  },
  {
   "cell_type": "code",
   "execution_count": 1,
   "metadata": {},
   "outputs": [],
   "source": [
    "def activation(row, weights):\n",
    "    yin = weights[0]\n",
    "    for i in range(len(row)-1):\n",
    "        yin += weights[i + 1] * row[i]\n",
    "    return 1.0 if yin > 2.0 else 0.0  "
   ]
  },
  {
   "cell_type": "code",
   "execution_count": 2,
   "metadata": {
    "colab": {},
    "colab_type": "code",
    "id": "Fwfa1yNKSDeu"
   },
   "outputs": [],
   "source": [
    "#test predictions\n",
    "dataset = [[0,0,0],\n",
    "          [0,1,0],\n",
    "          [1,0,0],\n",
    "          [1,1,1]]\n",
    "#weights = [0.1, 0.1, 0.1] Assignment (x=y)\n",
    "weights = [1, 1, 1]"
   ]
  },
  {
   "cell_type": "code",
   "execution_count": 3,
   "metadata": {
    "colab": {},
    "colab_type": "code",
    "id": "rAHLBWJpSDex",
    "outputId": "0869e41b-dbdb-4dff-8825-b8ddfc37ad11"
   },
   "outputs": [
    {
     "name": "stdout",
     "output_type": "stream",
     "text": [
      "Expected = 0 , Prediction = 0\n",
      "Expected = 0 , Prediction = 0\n",
      "Expected = 0 , Prediction = 0\n",
      "Expected = 1 , Prediction = 1\n"
     ]
    }
   ],
   "source": [
    "for row in dataset:\n",
    "    prediction = activation(row, weights)\n",
    "    print(\"Expected = %d , Prediction = %d\" % (row[-1], prediction))"
   ]
  },
  {
   "cell_type": "markdown",
   "metadata": {
    "colab": {},
    "colab_type": "code",
    "id": "TuRiRj7MSDe0"
   },
   "source": [
    "# 6. single layer perceptron OR "
   ]
  },
  {
   "cell_type": "code",
   "execution_count": 4,
   "metadata": {},
   "outputs": [],
   "source": [
    "def activation(row, weights):\n",
    "    yin = weights[0]\n",
    "    for i in range(len(row)-1):\n",
    "        yin += weights[i + 1] * row[i]\n",
    "    return 1.0 if yin >= 2.0 else 0.0  "
   ]
  },
  {
   "cell_type": "code",
   "execution_count": 5,
   "metadata": {
    "colab": {},
    "colab_type": "code",
    "id": "8XKwFnQlSDe3"
   },
   "outputs": [],
   "source": [
    "#test predictions\n",
    "dataset = [[0,0,0],\n",
    "          [0,1,1],\n",
    "          [1,0,1],\n",
    "          [1,1,1]]\n",
    "#weights = [0.1, 0.1, 0.1] Assignment (x=y)\n",
    "weights = [1, 1, 1] # bias, w1, w2"
   ]
  },
  {
   "cell_type": "code",
   "execution_count": 6,
   "metadata": {
    "colab": {},
    "colab_type": "code",
    "id": "ZDekAOBqSDe6",
    "outputId": "68847d62-6416-4994-eaf7-6a56ff3bef68"
   },
   "outputs": [
    {
     "name": "stdout",
     "output_type": "stream",
     "text": [
      "Expected = 0 , Prediction = 0\n",
      "Expected = 1 , Prediction = 1\n",
      "Expected = 1 , Prediction = 1\n",
      "Expected = 1 , Prediction = 1\n"
     ]
    }
   ],
   "source": [
    "for row in dataset:\n",
    "    prediction = activation(row, weights)\n",
    "    print(\"Expected = %d , Prediction = %d\" % (row[-1], prediction))"
   ]
  },
  {
   "cell_type": "markdown",
   "metadata": {
    "colab": {},
    "colab_type": "code",
    "id": "z8OFQ302SDe9"
   },
   "source": [
    "# 8. Develop a perceptron model for logical AND functions with bipolar inputs and targets. The initial values of weights and bias are w1=w2=b=0, learning rate α = 1 and threshold θ=0"
   ]
  },
  {
   "cell_type": "code",
   "execution_count": 8,
   "metadata": {},
   "outputs": [],
   "source": [
    "#intial weights\n",
    "w1=0\n",
    "w2=0\n",
    "b=0"
   ]
  },
  {
   "cell_type": "code",
   "execution_count": 9,
   "metadata": {},
   "outputs": [],
   "source": [
    "alpha=1 #learning rate"
   ]
  },
  {
   "cell_type": "code",
   "execution_count": 10,
   "metadata": {},
   "outputs": [],
   "source": [
    "X1=[-1,-1,1,1]\n",
    "X2=[-1,1,-1,1]\n",
    "t=[-1,-1,-1,1]#expected output"
   ]
  },
  {
   "cell_type": "code",
   "execution_count": 11,
   "metadata": {},
   "outputs": [
    {
     "name": "stdout",
     "output_type": "stream",
     "text": [
      "Expected = -1 , Prediction = -1\n",
      "Expected = -1 , Prediction = -1\n",
      "Expected = -1 , Prediction = -1\n",
      "Expected = 1 , Prediction = 1\n"
     ]
    }
   ],
   "source": [
    "yout=[]\n",
    "i=0\n",
    "while True:\n",
    "    ye=w1*X1[i]+w2*X2[i]+b\n",
    "    if ye<=0:\n",
    "        ye=-1\n",
    "    else:\n",
    "        ye=1\n",
    "    if ye==t[i]:\n",
    "        yout.append(ye)\n",
    "        print(\"Expected = %d , Prediction = %d\" % (t[i], ye))\n",
    "        if i==len(X1)-1:\n",
    "            break\n",
    "        i=i+1\n",
    "        continue\n",
    "    else:\n",
    "        w1=w1+alpha*t[i]*X1[i]\n",
    "        w2=w2+alpha*t[i]*X2[i]\n",
    "        b=b+alpha*t[i]\n",
    "        continue\n",
    "    "
   ]
  },
  {
   "cell_type": "markdown",
   "metadata": {},
   "source": [
    "# 7.Develop a multi-layer perceptron XOR  with bipolar inputs and targets."
   ]
  },
  {
   "cell_type": "code",
   "execution_count": 7,
   "metadata": {},
   "outputs": [
    {
     "name": "stdout",
     "output_type": "stream",
     "text": [
      "[[0.79306305]\n",
      " [0.83796464]\n",
      " [0.82958265]\n",
      " [0.86318101]]\n",
      "[[0.01562358]\n",
      " [0.98449348]\n",
      " [0.984621  ]\n",
      " [0.01511905]]\n"
     ]
    }
   ],
   "source": [
    "import numpy as np\n",
    "\n",
    "def sigmoid(x):\n",
    "    return 1.0/(1.0 + np.exp(-x))\n",
    "\n",
    "def sigmoid_der(x):\n",
    "    return x*(1.0 - x)\n",
    "\n",
    "class NN:\n",
    "    def __init__(self, inputs):\n",
    "        self.inputs = inputs\n",
    "        self.l=len(self.inputs)\n",
    "        self.li=len(self.inputs[0])\n",
    "\n",
    "        self.wi=np.random.random((self.li, self.l))#weights\n",
    "        self.wh=np.random.random((self.l, 1))#bias\n",
    "\n",
    "    def activation(self, inp):\n",
    "        s1=sigmoid(np.dot(inp, self.wi))\n",
    "        s2=sigmoid(np.dot(s1, self.wh))\n",
    "        return s2\n",
    "\n",
    "    def train(self, inputs,outputs, it):\n",
    "        for i in range(it):\n",
    "            l0=inputs\n",
    "            l1=sigmoid(np.dot(l0, self.wi))\n",
    "            l2=sigmoid(np.dot(l1, self.wh))\n",
    "\n",
    "            l2_err=outputs - l2\n",
    "            l2_delta = np.multiply(l2_err, sigmoid_der(l2))\n",
    "\n",
    "            l1_err=np.dot(l2_delta, self.wh.T)\n",
    "            l1_delta=np.multiply(l1_err, sigmoid_der(l1))\n",
    "\n",
    "            self.wh+=np.dot(l1.T, l2_delta)#updating weights\n",
    "            self.wi+=np.dot(l0.T, l1_delta)\n",
    "\n",
    "inputs=np.array([[0,0], [0,1], [1,0], [1,1] ])\n",
    "outputs=np.array([ [0], [1],[1],[0] ])\n",
    "\n",
    "n=NN(inputs)\n",
    "print(n.activation(inputs))\n",
    "n.train(inputs, outputs, 10000)\n",
    "print(n.activation(inputs))"
   ]
  },
  {
   "cell_type": "code",
   "execution_count": null,
   "metadata": {},
   "outputs": [],
   "source": []
  }
 ],
 "metadata": {
  "colab": {
   "name": "Perceptron.ipynb",
   "provenance": []
  },
  "kernelspec": {
   "display_name": "Python 3",
   "language": "python",
   "name": "python3"
  },
  "language_info": {
   "codemirror_mode": {
    "name": "ipython",
    "version": 3
   },
   "file_extension": ".py",
   "mimetype": "text/x-python",
   "name": "python",
   "nbconvert_exporter": "python",
   "pygments_lexer": "ipython3",
   "version": "3.7.4"
  }
 },
 "nbformat": 4,
 "nbformat_minor": 1
}
